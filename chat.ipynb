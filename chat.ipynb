{
 "cells": [
  {
   "cell_type": "markdown",
   "id": "ce786161",
   "metadata": {},
   "source": [
    "# Document Question Answering Chatbot"
   ]
  },
  {
   "cell_type": "code",
   "execution_count": 10,
   "id": "f4a2231b",
   "metadata": {
    "tags": []
   },
   "outputs": [],
   "source": [
    "from langchain.vectorstores import Chroma\n",
    "from langchain.embeddings import OpenAIEmbeddings\n",
    "from langchain.chat_models import ChatOpenAI\n",
    "from langchain.chains import RetrievalQA, ConversationalRetrievalChain\n",
    "from langchain.chains.question_answering import load_qa_chain\n",
    "from langchain.prompts import PromptTemplate"
   ]
  },
  {
   "cell_type": "code",
   "execution_count": 11,
   "id": "0db3d46f",
   "metadata": {
    "tags": []
   },
   "outputs": [],
   "source": [
    "import os\n",
    "import textwrap\n",
    "from dotenv import load_dotenv, find_dotenv\n",
    "load_dotenv(find_dotenv())\n",
    "\n",
    "open.api_key = os.environ['OPENAI_API_KEY']"
   ]
  },
  {
   "cell_type": "code",
   "execution_count": 12,
   "id": "b286b112",
   "metadata": {},
   "outputs": [],
   "source": [
    "def ask_question_with_context(qa, question, chat_history):\n",
    "    result = qa({\"question\": question, \"chat_history\": chat_history})\n",
    "    print(f\"\\n{textwrap.fill(result['answer'])}\\n\")\n",
    "    chat_history = [(question, result[\"answer\"])]\n",
    "    return chat_history"
   ]
  },
  {
   "cell_type": "markdown",
   "id": "35f89b35",
   "metadata": {},
   "source": [
    "## Initialize ChromaDB"
   ]
  },
  {
   "cell_type": "code",
   "execution_count": 13,
   "id": "d72a70e0",
   "metadata": {
    "tags": []
   },
   "outputs": [
    {
     "name": "stdout",
     "output_type": "stream",
     "text": [
      "255\n"
     ]
    }
   ],
   "source": [
    "embeddings = OpenAIEmbeddings()\n",
    "persist_directory = 'epiq_policies_chroma/'\n",
    "vectordb = Chroma(persist_directory=persist_directory, embedding_function=embeddings)\n",
    "print(vectordb._collection.count())"
   ]
  },
  {
   "cell_type": "markdown",
   "id": "fccfd707",
   "metadata": {},
   "source": [
    "## Create the chain and a helper function\n",
    "\n",
    "Initialize the chain we will use for question answering."
   ]
  },
  {
   "cell_type": "code",
   "execution_count": 14,
   "id": "0606a914",
   "metadata": {
    "tags": []
   },
   "outputs": [],
   "source": [
    "llm_model_name = \"gpt-3.5-turbo\"\n",
    "#llm_model_name = \"gpt-4\"\n",
    "llm = ChatOpenAI(model_name=llm_model_name, temperature=0)\n",
    "\n",
    "retriever = vectordb.as_retriever(search_type=\"similarity\", search_kwargs={\"k\":5})"
   ]
  },
  {
   "cell_type": "code",
   "execution_count": 15,
   "id": "b2a2977c",
   "metadata": {},
   "outputs": [],
   "source": [
    "QUESTION_PROMPT = PromptTemplate.from_template(\"\"\"Given the following conversation and a follow up question, rephrase the follow up question to be a standalone question.\n",
    "\n",
    "    Chat History:\n",
    "    {chat_history}\n",
    "    Follow Up Input: {question}\n",
    "    Standalone question:\"\"\")"
   ]
  },
  {
   "cell_type": "code",
   "execution_count": 16,
   "id": "6add062b",
   "metadata": {},
   "outputs": [],
   "source": [
    "qa = ConversationalRetrievalChain.from_llm(\n",
    "    llm=llm,\n",
    "    retriever=retriever,\n",
    "    condense_question_prompt=QUESTION_PROMPT,\n",
    "    return_source_documents=True,\n",
    "    verbose=False)"
   ]
  },
  {
   "cell_type": "code",
   "execution_count": 17,
   "id": "8f182e9b",
   "metadata": {},
   "outputs": [],
   "source": [
    "chat_history = []"
   ]
  },
  {
   "cell_type": "markdown",
   "id": "c3b120cf",
   "metadata": {},
   "source": [
    "## Ask questions!\n",
    "\n",
    "Now we can use the chain to ask questions!"
   ]
  },
  {
   "cell_type": "code",
   "execution_count": null,
   "id": "59962522",
   "metadata": {},
   "outputs": [
    {
     "name": "stdin",
     "output_type": "stream",
     "text": [
      "you:  What are the most significant elements of Epiq's data protection policy?\n"
     ]
    },
    {
     "name": "stdout",
     "output_type": "stream",
     "text": [
      "\n",
      "The most significant elements of Epiq's data protection policy\n",
      "include:  1. Privacy by Design & Default: Epiq ensures that controls\n",
      "for safeguarding, minimizing, and restricting access to personal data\n",
      "are identified and included in the design of new information systems\n",
      "or enhancements to existing systems.  2. Cross-Border Data Transfers:\n",
      "Epiq has policies and procedures in place for identifying, responding\n",
      "to, documenting, and closing incidents involving potential data\n",
      "breaches. They also have a breach notification plan and procedures for\n",
      "notifying associates, customers, and third parties in the event of a\n",
      "breach of personal data.  3. Monitoring: The Epiq Data Protection\n",
      "Director periodically reviews and identifies any new laws and\n",
      "regulations or changes to existing laws and regulations that may\n",
      "impact the requirements defined in the data protection policy.  4.\n",
      "Training and Awareness: Epiq requires mandatory privacy awareness\n",
      "training for all employees upon initial hire and annually thereafter.\n",
      "The training educates employees on their data privacy\n",
      "responsibilities, risks, safeguards, policies, and procedures.  5.\n",
      "Global Regulatory Requirements: Epiq complies with various data\n",
      "protection regulations, including the EU General Data Protection\n",
      "Regulation (GDPR), Swiss Federal Act on Data Protection 1992 (FDPA),\n",
      "US California Consumer Privacy Act (CCPA), and others.  6. HIPAA\n",
      "Security Requirements: Epiq ensures the security, confidentiality,\n",
      "integrity, and availability of its information systems containing\n",
      "electronic protected health information (ePHI) by implementing\n",
      "appropriate policies, procedures, and controls.  These are some of the\n",
      "significant elements of Epiq's data protection policy.\n",
      "\n"
     ]
    },
    {
     "name": "stdin",
     "output_type": "stream",
     "text": [
      "you:  Tell me more about what the policy says about HIPAA.\n"
     ]
    },
    {
     "name": "stdout",
     "output_type": "stream",
     "text": [
      "\n",
      "Epiq's data protection policy states that they are responsible for\n",
      "ensuring the security, confidentiality, integrity, and availability of\n",
      "its information systems containing ePHI (electronic protected health\n",
      "information) by implementing appropriate policies, procedures, and\n",
      "controls. They will develop and maintain written policies and\n",
      "procedures for the handling of ePHI, including its receipt, storage,\n",
      "transmission, and disposal. Violations of the HIPAA Compliance Program\n",
      "may result in disciplinary actions, including termination. Epiq\n",
      "personnel are also required to report any violations or issues related\n",
      "to HIPAA to their manager and the appropriate HIPAA Program Owner.\n",
      "\n"
     ]
    },
    {
     "name": "stdin",
     "output_type": "stream",
     "text": [
      "you:  Does the policy say more about ePHI?\n"
     ]
    },
    {
     "name": "stdout",
     "output_type": "stream",
     "text": [
      "\n",
      "Epiq's data protection policy states that they are responsible for\n",
      "ensuring the security, confidentiality, integrity, and availability of\n",
      "its information systems containing ePHI. They do this by implementing\n",
      "appropriate policies, procedures, and controls to prevent, detect,\n",
      "contain, and correct issues or concerns related to ePHI. They also\n",
      "develop and maintain written policies and procedures for the routine\n",
      "and non-routine handling of ePHI.\n",
      "\n"
     ]
    }
   ],
   "source": [
    "while True:\n",
    "    query = input('you: ')\n",
    "    if query == 'q':\n",
    "        break\n",
    "    chat_history = ask_question_with_context(qa, query, chat_history)"
   ]
  },
  {
   "cell_type": "code",
   "execution_count": null,
   "id": "d78d6243",
   "metadata": {},
   "outputs": [],
   "source": []
  }
 ],
 "metadata": {
  "kernelspec": {
   "display_name": "Python 3 (ipykernel)",
   "language": "python",
   "name": "python3"
  },
  "language_info": {
   "codemirror_mode": {
    "name": "ipython",
    "version": 3
   },
   "file_extension": ".py",
   "mimetype": "text/x-python",
   "name": "python",
   "nbconvert_exporter": "python",
   "pygments_lexer": "ipython3",
   "version": "3.10.6"
  }
 },
 "nbformat": 4,
 "nbformat_minor": 5
}
