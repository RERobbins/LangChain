{
 "cells": [
  {
   "cell_type": "code",
   "execution_count": 1,
   "id": "2f22d9df",
   "metadata": {
    "tags": []
   },
   "outputs": [],
   "source": [
    "import os\n",
    "import openai\n",
    "import sys\n",
    "import glob\n",
    "import tiktoken\n",
    "sys.path.append('../..')\n",
    "\n",
    "from dotenv import load_dotenv, find_dotenv\n",
    "load_dotenv(find_dotenv())\n",
    "\n",
    "open.api_key = os.environ['OPENAI_API_KEY']"
   ]
  },
  {
   "cell_type": "code",
   "execution_count": 2,
   "id": "0b0fc8b0",
   "metadata": {
    "tags": []
   },
   "outputs": [],
   "source": [
    "from langchain.document_loaders import PyPDFLoader"
   ]
  },
  {
   "cell_type": "code",
   "execution_count": 3,
   "id": "3c4bed25",
   "metadata": {
    "tags": []
   },
   "outputs": [],
   "source": [
    "from langchain.text_splitter import RecursiveCharacterTextSplitter, CharacterTextSplitter"
   ]
  },
  {
   "cell_type": "code",
   "execution_count": 4,
   "id": "632fe6ad",
   "metadata": {
    "tags": []
   },
   "outputs": [
    {
     "data": {
      "text/plain": [
       "['data/state_of_the_union.pdf',\n",
       " 'data/silverman-openai-complaint.pdf',\n",
       " 'data/The_Effect_of_Student_Teacher_Ratio_on_Truancy.pdf',\n",
       " 'data/Question_Generation.pdf',\n",
       " 'data/fec_2016_EDA.v2.pdf',\n",
       " 'data/exploring-ggplot.pdf']"
      ]
     },
     "execution_count": 4,
     "metadata": {},
     "output_type": "execute_result"
    }
   ],
   "source": [
    "glob.glob(\"data/*.pdf\")"
   ]
  },
  {
   "cell_type": "code",
   "execution_count": 5,
   "id": "7474a333",
   "metadata": {
    "tags": []
   },
   "outputs": [],
   "source": [
    "loaders = [PyPDFLoader(pdf) for pdf in glob.glob(\"data/*.pdf\")]"
   ]
  },
  {
   "cell_type": "code",
   "execution_count": 6,
   "id": "0a37ce9c",
   "metadata": {
    "tags": []
   },
   "outputs": [
    {
     "data": {
      "text/plain": [
       "[<langchain.document_loaders.pdf.PyPDFLoader at 0x7f048e805c00>,\n",
       " <langchain.document_loaders.pdf.PyPDFLoader at 0x7f048e805f30>,\n",
       " <langchain.document_loaders.pdf.PyPDFLoader at 0x7f045df2ccd0>,\n",
       " <langchain.document_loaders.pdf.PyPDFLoader at 0x7f045df2cfa0>,\n",
       " <langchain.document_loaders.pdf.PyPDFLoader at 0x7f045df2cee0>,\n",
       " <langchain.document_loaders.pdf.PyPDFLoader at 0x7f045df2ce20>]"
      ]
     },
     "execution_count": 6,
     "metadata": {},
     "output_type": "execute_result"
    }
   ],
   "source": [
    "loaders"
   ]
  },
  {
   "cell_type": "code",
   "execution_count": 7,
   "id": "54ba17c2",
   "metadata": {
    "tags": []
   },
   "outputs": [],
   "source": [
    "docs = []\n",
    "for loader in loaders:\n",
    "    docs.extend(loader.load())"
   ]
  },
  {
   "cell_type": "code",
   "execution_count": 8,
   "id": "8462c18f",
   "metadata": {
    "tags": []
   },
   "outputs": [
    {
     "data": {
      "text/plain": [
       "88"
      ]
     },
     "execution_count": 8,
     "metadata": {},
     "output_type": "execute_result"
    }
   ],
   "source": [
    "len(docs)"
   ]
  },
  {
   "cell_type": "code",
   "execution_count": 9,
   "id": "57db3aac",
   "metadata": {
    "tags": []
   },
   "outputs": [],
   "source": [
    "from langchain.text_splitter import RecursiveCharacterTextSplitter\n",
    "text_splitter = RecursiveCharacterTextSplitter(\n",
    "    chunk_size = 1500,\n",
    "    chunk_overlap = 150\n",
    ")"
   ]
  },
  {
   "cell_type": "code",
   "execution_count": 10,
   "id": "babfa1dc",
   "metadata": {
    "tags": []
   },
   "outputs": [],
   "source": [
    "splits = text_splitter.split_documents(docs)"
   ]
  },
  {
   "cell_type": "code",
   "execution_count": 11,
   "id": "975a2a8f",
   "metadata": {
    "tags": []
   },
   "outputs": [
    {
     "data": {
      "text/plain": [
       "187"
      ]
     },
     "execution_count": 11,
     "metadata": {},
     "output_type": "execute_result"
    }
   ],
   "source": [
    "len(splits)"
   ]
  },
  {
   "cell_type": "code",
   "execution_count": 12,
   "id": "100d2570",
   "metadata": {
    "tags": []
   },
   "outputs": [],
   "source": [
    "from langchain.embeddings.openai import OpenAIEmbeddings\n",
    "embedding = OpenAIEmbeddings()"
   ]
  },
  {
   "cell_type": "code",
   "execution_count": 13,
   "id": "ad9ddfc8",
   "metadata": {
    "tags": []
   },
   "outputs": [],
   "source": [
    "from langchain.vectorstores import Chroma"
   ]
  },
  {
   "cell_type": "code",
   "execution_count": 14,
   "id": "318bcb38",
   "metadata": {
    "tags": []
   },
   "outputs": [],
   "source": [
    "persist_directory = 'chroma/'"
   ]
  },
  {
   "cell_type": "code",
   "execution_count": 15,
   "id": "afe642f6",
   "metadata": {
    "tags": []
   },
   "outputs": [],
   "source": [
    "!rm -rf chroma  # remove old database files if any"
   ]
  },
  {
   "cell_type": "code",
   "execution_count": 16,
   "id": "8eaf392c",
   "metadata": {
    "tags": []
   },
   "outputs": [],
   "source": [
    "vectordb = Chroma.from_documents(\n",
    "    documents=splits,\n",
    "    embedding=embedding,\n",
    "    persist_directory=persist_directory\n",
    ")"
   ]
  },
  {
   "cell_type": "code",
   "execution_count": 17,
   "id": "0d088771",
   "metadata": {
    "tags": []
   },
   "outputs": [
    {
     "name": "stdout",
     "output_type": "stream",
     "text": [
      "187\n"
     ]
    }
   ],
   "source": [
    "print(vectordb._collection.count())"
   ]
  },
  {
   "cell_type": "code",
   "execution_count": 18,
   "id": "052e0365",
   "metadata": {
    "tags": []
   },
   "outputs": [],
   "source": [
    "question = \"Who is Sarah Silverman?\""
   ]
  },
  {
   "cell_type": "code",
   "execution_count": 19,
   "id": "1ce97d45",
   "metadata": {
    "tags": []
   },
   "outputs": [],
   "source": [
    "docs = vectordb.similarity_search(question,k=10)"
   ]
  },
  {
   "cell_type": "code",
   "execution_count": 20,
   "id": "3fbe7496",
   "metadata": {
    "tags": []
   },
   "outputs": [
    {
     "data": {
      "text/plain": [
       "10"
      ]
     },
     "execution_count": 20,
     "metadata": {},
     "output_type": "execute_result"
    }
   ],
   "source": [
    "len(docs)"
   ]
  },
  {
   "cell_type": "code",
   "execution_count": 21,
   "id": "d03b5671",
   "metadata": {
    "tags": []
   },
   "outputs": [
    {
     "data": {
      "text/plain": [
       "'1\\n2\\n3\\n4\\n5\\n6\\n7\\n8\\n9\\n10\\n11\\n12\\n13\\n14\\n15\\n16\\n17\\n18\\n19\\n20\\n21\\n22\\n23\\n24\\n25\\n26\\n27\\n28 \\n 1  \\nCOMPLAINT \\n Plaintiffs Sarah Silverman, Christopher Golden, and Richard Kadrey (“Plainti ffs”), on behalf of \\nthemselves and all others similarly situated, bring this Class Action Complaint (the “Complaint”) against Defendants OpenAI, Inc., OpenAI, L.P., Op enAI OpCo, L.L.C., Open AI GP, L.L.C., OpenAI \\nStartup Fund I, L.P., OpenAI Startup Fund GP I,  L.L.C. and OpenAI Startup Fund Management, LLC \\nfor direct copyright infringement, vicarious copyright in fringement, violations of section 1202(b) of the \\nDigital Millennium Copyright Act, unjust enrichment, violations of the California and common law unfair competition laws, and negligence. Plainti ffs seek injunctive relief an to recover damages as a \\nresult and consequence of Defendants’ unlawful conduct. \\nI. OVERVIEW \\n1. ChatGPT is a software product created, maintained, and sold by OpenAI.  \\n2. ChatGPT is powered by two AI software programs called GPT-3.5 and GPT-4, also \\nknown as large language models . Rather than being programmed in the traditional way, a large language \\nmodel is “trained” by copying massive amounts of text and extracting expressive information from it. This body of text is called the training dataset . Once a large language model has copied and ingested the \\ntext in its training dataset, it is able to emit convincingly naturalistic text outputs in response to user prompts.'"
      ]
     },
     "execution_count": 21,
     "metadata": {},
     "output_type": "execute_result"
    }
   ],
   "source": [
    "docs[2].page_content"
   ]
  },
  {
   "cell_type": "code",
   "execution_count": 22,
   "id": "86e20139",
   "metadata": {
    "tags": []
   },
   "outputs": [],
   "source": [
    "vectordb.persist()"
   ]
  },
  {
   "cell_type": "code",
   "execution_count": 23,
   "id": "7c7a3933",
   "metadata": {
    "tags": []
   },
   "outputs": [
    {
     "name": "stdout",
     "output_type": "stream",
     "text": [
      "{'page': 2, 'source': 'data/silverman-openai-complaint.pdf'}\n",
      "{'page': 0, 'source': 'data/silverman-openai-complaint.pdf'}\n",
      "{'page': 1, 'source': 'data/silverman-openai-complaint.pdf'}\n",
      "{'page': 16, 'source': 'data/state_of_the_union.pdf'}\n",
      "{'page': 0, 'source': 'data/state_of_the_union.pdf'}\n",
      "{'page': 13, 'source': 'data/state_of_the_union.pdf'}\n",
      "{'page': 15, 'source': 'data/state_of_the_union.pdf'}\n",
      "{'page': 12, 'source': 'data/state_of_the_union.pdf'}\n",
      "{'page': 14, 'source': 'data/state_of_the_union.pdf'}\n",
      "{'page': 9, 'source': 'data/state_of_the_union.pdf'}\n"
     ]
    }
   ],
   "source": [
    "for doc in docs:\n",
    "    print(doc.metadata)"
   ]
  }
 ],
 "metadata": {
  "kernelspec": {
   "display_name": "Python 3 (ipykernel)",
   "language": "python",
   "name": "python3"
  },
  "language_info": {
   "codemirror_mode": {
    "name": "ipython",
    "version": 3
   },
   "file_extension": ".py",
   "mimetype": "text/x-python",
   "name": "python",
   "nbconvert_exporter": "python",
   "pygments_lexer": "ipython3",
   "version": "3.10.6"
  }
 },
 "nbformat": 4,
 "nbformat_minor": 5
}
