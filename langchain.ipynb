{
 "cells": [
  {
   "cell_type": "code",
   "execution_count": 12,
   "id": "5203f3bc",
   "metadata": {
    "tags": []
   },
   "outputs": [],
   "source": [
    "import tensorflow as tf"
   ]
  },
  {
   "cell_type": "code",
   "execution_count": 13,
   "id": "14bb2c71",
   "metadata": {
    "tags": []
   },
   "outputs": [
    {
     "data": {
      "text/plain": [
       "[PhysicalDevice(name='/physical_device:CPU:0', device_type='CPU'),\n",
       " PhysicalDevice(name='/physical_device:GPU:0', device_type='GPU')]"
      ]
     },
     "execution_count": 13,
     "metadata": {},
     "output_type": "execute_result"
    }
   ],
   "source": [
    "tf.config.list_physical_devices()"
   ]
  },
  {
   "cell_type": "code",
   "execution_count": 14,
   "id": "fd47b98e",
   "metadata": {
    "tags": []
   },
   "outputs": [],
   "source": [
    "import os\n",
    "import openai\n",
    "import sys\n",
    "import glob\n",
    "import tiktoken\n",
    "sys.path.append('../..')\n",
    "\n",
    "from dotenv import load_dotenv, find_dotenv\n",
    "_ = load_dotenv(find_dotenv())\n",
    "\n",
    "open.api_key = os.environ['OPENAI_API_KEY']"
   ]
  },
  {
   "cell_type": "code",
   "execution_count": 15,
   "id": "1b36ae7f",
   "metadata": {
    "tags": []
   },
   "outputs": [],
   "source": [
    "from langchain.document_loaders import PyPDFLoader"
   ]
  },
  {
   "cell_type": "code",
   "execution_count": 16,
   "id": "05f92a27",
   "metadata": {
    "tags": []
   },
   "outputs": [],
   "source": [
    "from langchain.text_splitter import RecursiveCharacterTextSplitter, CharacterTextSplitter"
   ]
  },
  {
   "cell_type": "code",
   "execution_count": 17,
   "id": "0bb4135d",
   "metadata": {
    "tags": []
   },
   "outputs": [
    {
     "data": {
      "text/plain": [
       "['data/state_of_the_union.pdf',\n",
       " 'data/silverman-openai-complaint.pdf',\n",
       " 'data/The_Effect_of_Student_Teacher_Ratio_on_Truancy.pdf',\n",
       " 'data/Question_Generation.pdf',\n",
       " 'data/fec_2016_EDA.v2.pdf',\n",
       " 'data/exploring-ggplot.pdf']"
      ]
     },
     "execution_count": 17,
     "metadata": {},
     "output_type": "execute_result"
    }
   ],
   "source": [
    "glob.glob(\"data/*.pdf\")"
   ]
  },
  {
   "cell_type": "code",
   "execution_count": 18,
   "id": "cb6f9260",
   "metadata": {
    "tags": []
   },
   "outputs": [],
   "source": [
    "loaders = [PyPDFLoader(pdf) for pdf in glob.glob(\"data/*.pdf\")]"
   ]
  },
  {
   "cell_type": "code",
   "execution_count": 19,
   "id": "3c410c73",
   "metadata": {
    "tags": []
   },
   "outputs": [
    {
     "data": {
      "text/plain": [
       "[<langchain.document_loaders.pdf.PyPDFLoader at 0x7f8a1ff5fb80>,\n",
       " <langchain.document_loaders.pdf.PyPDFLoader at 0x7f8bc3d2fee0>,\n",
       " <langchain.document_loaders.pdf.PyPDFLoader at 0x7f8a1fd9ab90>,\n",
       " <langchain.document_loaders.pdf.PyPDFLoader at 0x7f8a1fd9ae60>,\n",
       " <langchain.document_loaders.pdf.PyPDFLoader at 0x7f8a1fd9ada0>,\n",
       " <langchain.document_loaders.pdf.PyPDFLoader at 0x7f8a1fd9ace0>]"
      ]
     },
     "execution_count": 19,
     "metadata": {},
     "output_type": "execute_result"
    }
   ],
   "source": [
    "loaders"
   ]
  },
  {
   "cell_type": "code",
   "execution_count": 20,
   "id": "114f5d42",
   "metadata": {
    "tags": []
   },
   "outputs": [],
   "source": [
    "docs = []\n",
    "for loader in loaders:\n",
    "    docs.extend(loader.load())"
   ]
  },
  {
   "cell_type": "code",
   "execution_count": 21,
   "id": "fd71028a",
   "metadata": {
    "tags": []
   },
   "outputs": [
    {
     "data": {
      "text/plain": [
       "88"
      ]
     },
     "execution_count": 21,
     "metadata": {},
     "output_type": "execute_result"
    }
   ],
   "source": [
    "len(docs)"
   ]
  },
  {
   "cell_type": "code",
   "execution_count": 22,
   "id": "7f875b75",
   "metadata": {
    "tags": []
   },
   "outputs": [],
   "source": [
    "from langchain.text_splitter import RecursiveCharacterTextSplitter\n",
    "text_splitter = RecursiveCharacterTextSplitter(\n",
    "    chunk_size = 1500,\n",
    "    chunk_overlap = 150\n",
    ")"
   ]
  },
  {
   "cell_type": "code",
   "execution_count": 23,
   "id": "fbd8db13",
   "metadata": {
    "tags": []
   },
   "outputs": [],
   "source": [
    "splits = text_splitter.split_documents(docs)"
   ]
  },
  {
   "cell_type": "code",
   "execution_count": 24,
   "id": "53426cdd",
   "metadata": {
    "tags": []
   },
   "outputs": [
    {
     "data": {
      "text/plain": [
       "187"
      ]
     },
     "execution_count": 24,
     "metadata": {},
     "output_type": "execute_result"
    }
   ],
   "source": [
    "len(splits)"
   ]
  },
  {
   "cell_type": "code",
   "execution_count": 25,
   "id": "cac33fa4",
   "metadata": {
    "tags": []
   },
   "outputs": [],
   "source": [
    "from langchain.embeddings.openai import OpenAIEmbeddings\n",
    "embedding = OpenAIEmbeddings()"
   ]
  },
  {
   "cell_type": "code",
   "execution_count": 26,
   "id": "a065523b",
   "metadata": {
    "tags": []
   },
   "outputs": [],
   "source": [
    "from langchain.vectorstores import Chroma"
   ]
  },
  {
   "cell_type": "code",
   "execution_count": 27,
   "id": "375ad924",
   "metadata": {
    "tags": []
   },
   "outputs": [],
   "source": [
    "persist_directory = 'chroma/'"
   ]
  },
  {
   "cell_type": "code",
   "execution_count": 28,
   "id": "eb421dc6",
   "metadata": {
    "tags": []
   },
   "outputs": [],
   "source": [
    "!rm -rf chroma  # remove old database files if any"
   ]
  },
  {
   "cell_type": "code",
   "execution_count": 29,
   "id": "691f0148",
   "metadata": {
    "tags": []
   },
   "outputs": [],
   "source": [
    "vectordb = Chroma.from_documents(\n",
    "    documents=splits,\n",
    "    embedding=embedding,\n",
    "    persist_directory=persist_directory\n",
    ")"
   ]
  },
  {
   "cell_type": "code",
   "execution_count": 30,
   "id": "773fdb6d",
   "metadata": {
    "tags": []
   },
   "outputs": [
    {
     "name": "stdout",
     "output_type": "stream",
     "text": [
      "187\n"
     ]
    }
   ],
   "source": [
    "print(vectordb._collection.count())"
   ]
  },
  {
   "cell_type": "code",
   "execution_count": 31,
   "id": "0cf8e431",
   "metadata": {
    "tags": []
   },
   "outputs": [],
   "source": [
    "question = \"Who is Sarah Silverman?\""
   ]
  },
  {
   "cell_type": "code",
   "execution_count": 32,
   "id": "0a2fd61a",
   "metadata": {
    "tags": []
   },
   "outputs": [],
   "source": [
    "docs = vectordb.similarity_search(question,k=10)"
   ]
  },
  {
   "cell_type": "code",
   "execution_count": 33,
   "id": "51f4440d",
   "metadata": {
    "tags": []
   },
   "outputs": [
    {
     "data": {
      "text/plain": [
       "10"
      ]
     },
     "execution_count": 33,
     "metadata": {},
     "output_type": "execute_result"
    }
   ],
   "source": [
    "len(docs)"
   ]
  },
  {
   "cell_type": "code",
   "execution_count": 34,
   "id": "4783682f",
   "metadata": {
    "tags": []
   },
   "outputs": [
    {
     "data": {
      "text/plain": [
       "'1\\n2\\n3\\n4\\n5\\n6\\n7\\n8\\n9\\n10\\n11\\n12\\n13\\n14\\n15\\n16\\n17\\n18\\n19\\n20\\n21\\n22\\n23\\n24\\n25\\n26\\n27\\n28 \\n 1  \\nCOMPLAINT \\n Plaintiffs Sarah Silverman, Christopher Golden, and Richard Kadrey (“Plainti ffs”), on behalf of \\nthemselves and all others similarly situated, bring this Class Action Complaint (the “Complaint”) against Defendants OpenAI, Inc., OpenAI, L.P., Op enAI OpCo, L.L.C., Open AI GP, L.L.C., OpenAI \\nStartup Fund I, L.P., OpenAI Startup Fund GP I,  L.L.C. and OpenAI Startup Fund Management, LLC \\nfor direct copyright infringement, vicarious copyright in fringement, violations of section 1202(b) of the \\nDigital Millennium Copyright Act, unjust enrichment, violations of the California and common law unfair competition laws, and negligence. Plainti ffs seek injunctive relief an to recover damages as a \\nresult and consequence of Defendants’ unlawful conduct. \\nI. OVERVIEW \\n1. ChatGPT is a software product created, maintained, and sold by OpenAI.  \\n2. ChatGPT is powered by two AI software programs called GPT-3.5 and GPT-4, also \\nknown as large language models . Rather than being programmed in the traditional way, a large language \\nmodel is “trained” by copying massive amounts of text and extracting expressive information from it. This body of text is called the training dataset . Once a large language model has copied and ingested the \\ntext in its training dataset, it is able to emit convincingly naturalistic text outputs in response to user prompts.'"
      ]
     },
     "execution_count": 34,
     "metadata": {},
     "output_type": "execute_result"
    }
   ],
   "source": [
    "docs[2].page_content"
   ]
  },
  {
   "cell_type": "code",
   "execution_count": 35,
   "id": "b42c7282",
   "metadata": {
    "tags": []
   },
   "outputs": [],
   "source": [
    "vectordb.persist()"
   ]
  },
  {
   "cell_type": "code",
   "execution_count": 36,
   "id": "8151486e",
   "metadata": {
    "tags": []
   },
   "outputs": [
    {
     "name": "stdout",
     "output_type": "stream",
     "text": [
      "{'page': 2, 'source': 'data/silverman-openai-complaint.pdf'}\n",
      "{'page': 0, 'source': 'data/silverman-openai-complaint.pdf'}\n",
      "{'page': 1, 'source': 'data/silverman-openai-complaint.pdf'}\n",
      "{'page': 16, 'source': 'data/state_of_the_union.pdf'}\n",
      "{'page': 0, 'source': 'data/state_of_the_union.pdf'}\n",
      "{'page': 13, 'source': 'data/state_of_the_union.pdf'}\n",
      "{'page': 15, 'source': 'data/state_of_the_union.pdf'}\n",
      "{'page': 12, 'source': 'data/state_of_the_union.pdf'}\n",
      "{'page': 14, 'source': 'data/state_of_the_union.pdf'}\n",
      "{'page': 9, 'source': 'data/state_of_the_union.pdf'}\n"
     ]
    }
   ],
   "source": [
    "for doc in docs:\n",
    "    print(doc.metadata)"
   ]
  },
  {
   "cell_type": "code",
   "execution_count": null,
   "id": "23b5689a",
   "metadata": {},
   "outputs": [],
   "source": []
  },
  {
   "cell_type": "code",
   "execution_count": null,
   "id": "4e0535c7",
   "metadata": {},
   "outputs": [],
   "source": []
  }
 ],
 "metadata": {
  "kernelspec": {
   "display_name": "Python 3 (ipykernel)",
   "language": "python",
   "name": "python3"
  },
  "language_info": {
   "codemirror_mode": {
    "name": "ipython",
    "version": 3
   },
   "file_extension": ".py",
   "mimetype": "text/x-python",
   "name": "python",
   "nbconvert_exporter": "python",
   "pygments_lexer": "ipython3",
   "version": "3.10.6"
  }
 },
 "nbformat": 4,
 "nbformat_minor": 5
}
