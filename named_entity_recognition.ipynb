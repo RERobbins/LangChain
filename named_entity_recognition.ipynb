{
 "cells": [
  {
   "cell_type": "code",
   "execution_count": 1,
   "id": "87af1d1f",
   "metadata": {},
   "outputs": [
    {
     "ename": "ImportError",
     "evalue": "cannot import name 'LangChain' from 'langchain' (/usr/local/lib/python3.10/dist-packages/langchain/__init__.py)",
     "output_type": "error",
     "traceback": [
      "\u001b[0;31m---------------------------------------------------------------------------\u001b[0m",
      "\u001b[0;31mImportError\u001b[0m                               Traceback (most recent call last)",
      "Cell \u001b[0;32mIn[1], line 1\u001b[0m\n\u001b[0;32m----> 1\u001b[0m \u001b[38;5;28;01mfrom\u001b[39;00m \u001b[38;5;21;01mlangchain\u001b[39;00m \u001b[38;5;28;01mimport\u001b[39;00m LangChain\n\u001b[1;32m      3\u001b[0m \u001b[38;5;66;03m# Initialize LangChain object\u001b[39;00m\n\u001b[1;32m      4\u001b[0m lc \u001b[38;5;241m=\u001b[39m LangChain()\n",
      "\u001b[0;31mImportError\u001b[0m: cannot import name 'LangChain' from 'langchain' (/usr/local/lib/python3.10/dist-packages/langchain/__init__.py)"
     ]
    }
   ],
   "source": [
    "from langchain import LangChain\n",
    "\n",
    "# Initialize LangChain object\n",
    "lc = LangChain()\n",
    "\n",
    "# Define input text\n",
    "input_text = \"Microsoft is acquiring Nuance Communications for $19.7 billion.\"\n",
    "\n",
    "# Perform NER\n",
    "entities = lc.ner(input_text)\n",
    "\n",
    "# Print the entities\n",
    "print(entities)"
   ]
  },
  {
   "cell_type": "code",
   "execution_count": null,
   "id": "4a89dd55",
   "metadata": {},
   "outputs": [],
   "source": []
  }
 ],
 "metadata": {
  "kernelspec": {
   "display_name": "Python 3 (ipykernel)",
   "language": "python",
   "name": "python3"
  },
  "language_info": {
   "codemirror_mode": {
    "name": "ipython",
    "version": 3
   },
   "file_extension": ".py",
   "mimetype": "text/x-python",
   "name": "python",
   "nbconvert_exporter": "python",
   "pygments_lexer": "ipython3",
   "version": "3.10.6"
  }
 },
 "nbformat": 4,
 "nbformat_minor": 5
}
