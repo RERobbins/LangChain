{
 "cells": [
  {
   "cell_type": "markdown",
   "id": "3062ed7e",
   "metadata": {},
   "source": [
    "# Document Question Answering"
   ]
  },
  {
   "cell_type": "code",
   "execution_count": 1,
   "id": "ff940870",
   "metadata": {
    "tags": []
   },
   "outputs": [],
   "source": [
    "from langchain.vectorstores import Chroma\n",
    "from langchain.embeddings import OpenAIEmbeddings\n",
    "from langchain.text_splitter import RecursiveCharacterTextSplitter\n",
    "from langchain.chat_models import ChatOpenAI\n",
    "from langchain.chains import RetrievalQA\n",
    "from langchain.document_loaders import TextLoader, PyPDFLoader"
   ]
  },
  {
   "cell_type": "code",
   "execution_count": 2,
   "id": "4136e093",
   "metadata": {
    "tags": []
   },
   "outputs": [],
   "source": [
    "import glob\n",
    "import os\n",
    "from dotenv import load_dotenv, find_dotenv\n",
    "load_dotenv(find_dotenv())\n",
    "\n",
    "open.api_key = os.environ['OPENAI_API_KEY']"
   ]
  },
  {
   "cell_type": "markdown",
   "id": "fa356c44",
   "metadata": {},
   "source": [
    "## Load documents"
   ]
  },
  {
   "cell_type": "code",
   "execution_count": 3,
   "id": "0c917ccf",
   "metadata": {},
   "outputs": [
    {
     "data": {
      "text/plain": [
       "['data/silverman-openai-complaint.pdf',\n",
       " 'data/doc-5.txt',\n",
       " 'data/The_Effect_of_Student_Teacher_Ratio_on_Truancy.pdf',\n",
       " 'data/doc-3.txt',\n",
       " 'data/Question_Generation.pdf',\n",
       " 'data/doc-2.txt',\n",
       " 'data/state_of_the_union.txt',\n",
       " 'data/fec_2016_EDA.v2.pdf',\n",
       " 'data/doc-4.txt',\n",
       " 'data/2023-08-01_Trump_Indictment.pdf',\n",
       " 'data/exploring-ggplot.pdf',\n",
       " 'data/doc-6.txt',\n",
       " 'data/doc-1.txt']"
      ]
     },
     "execution_count": 3,
     "metadata": {},
     "output_type": "execute_result"
    }
   ],
   "source": [
    "glob.glob(\"data/*\")"
   ]
  },
  {
   "cell_type": "code",
   "execution_count": 4,
   "id": "2354a5b5",
   "metadata": {},
   "outputs": [],
   "source": [
    "loaders = [PyPDFLoader(pdf) for pdf in glob.glob(\"data/*.pdf\")] + \\\n",
    "          [TextLoader (txt) for txt in glob.glob(\"data/*.txt\")]"
   ]
  },
  {
   "cell_type": "code",
   "execution_count": 5,
   "id": "259b3062",
   "metadata": {},
   "outputs": [
    {
     "data": {
      "text/plain": [
       "123"
      ]
     },
     "execution_count": 5,
     "metadata": {},
     "output_type": "execute_result"
    }
   ],
   "source": [
    "docs = []\n",
    "for loader in loaders:\n",
    "    docs.extend(loader.load())\n",
    "len(docs)"
   ]
  },
  {
   "cell_type": "markdown",
   "id": "b2a867bf",
   "metadata": {},
   "source": [
    "## Split documents"
   ]
  },
  {
   "cell_type": "code",
   "execution_count": 6,
   "id": "6c615421",
   "metadata": {
    "tags": []
   },
   "outputs": [
    {
     "data": {
      "text/plain": [
       "257"
      ]
     },
     "execution_count": 6,
     "metadata": {},
     "output_type": "execute_result"
    }
   ],
   "source": [
    "text_splitter = RecursiveCharacterTextSplitter(\n",
    "    chunk_size = 1500,\n",
    "    chunk_overlap = 150\n",
    ")\n",
    "splits = text_splitter.split_documents(docs)\n",
    "len(splits)"
   ]
  },
  {
   "cell_type": "markdown",
   "id": "b9aa93ed",
   "metadata": {},
   "source": [
    "## Initialize ChromaDB\n",
    "\n",
    "Create embeddings for each chunk and insert into the Chroma vector database."
   ]
  },
  {
   "cell_type": "code",
   "execution_count": 7,
   "id": "fe7b12ea",
   "metadata": {
    "tags": []
   },
   "outputs": [
    {
     "name": "stdout",
     "output_type": "stream",
     "text": [
      "257\n"
     ]
    }
   ],
   "source": [
    "embeddings = OpenAIEmbeddings()\n",
    "vectordb = Chroma.from_documents(splits, embeddings)\n",
    "persist_directory = 'chroma/'\n",
    "\n",
    "!rm -rf chroma/\n",
    "vectordb = Chroma.from_documents(\n",
    "    documents=splits,\n",
    "    embedding=embeddings,\n",
    "    persist_directory=persist_directory\n",
    ")\n",
    "print(vectordb._collection.count())\n",
    "vectordb.persist()"
   ]
  },
  {
   "cell_type": "markdown",
   "id": "6717c3fe",
   "metadata": {},
   "source": [
    "## Create the chain\n",
    "\n",
    "Initialize the chain we will use for question answering."
   ]
  },
  {
   "cell_type": "code",
   "execution_count": 8,
   "id": "f37a98ff",
   "metadata": {
    "tags": []
   },
   "outputs": [],
   "source": [
    "llm = ChatOpenAI(model_name=\"gpt-3.5-turbo\", temperature=0)\n",
    "\n",
    "qa = RetrievalQA.from_chain_type(\n",
    "    llm,\n",
    "    retriever=vectordb.as_retriever()\n",
    ")"
   ]
  },
  {
   "cell_type": "markdown",
   "id": "cd152082",
   "metadata": {},
   "source": [
    "## Ask questions!\n",
    "\n",
    "Now we can use the chain to ask questions!"
   ]
  },
  {
   "cell_type": "code",
   "execution_count": 9,
   "id": "341e94a2",
   "metadata": {
    "tags": []
   },
   "outputs": [
    {
     "data": {
      "text/plain": [
       "\"The president mentioned that when corporations don't have to compete, their profits go up, which in turn drives up prices for consumers. He also stated that the previous administration gave tax cuts to the very wealthy and corporations, leading to a wider gap between the top earners and everyone else. The president proposed closing loopholes to ensure that the wealthy don't pay a lower tax rate than teachers or firefighters.\""
      ]
     },
     "execution_count": 9,
     "metadata": {},
     "output_type": "execute_result"
    }
   ],
   "source": [
    "query = \"What did the president say about large corporations and the wealthy?\"\n",
    "qa.run(query)"
   ]
  },
  {
   "cell_type": "code",
   "execution_count": 10,
   "id": "6326bc4d",
   "metadata": {},
   "outputs": [
    {
     "data": {
      "text/plain": [
       "'Sarah Silverman alleges that OpenAI, without her permission, made copies of her book \"The Bedwetter\" during the training process of their language models. She claims that the language models are infringing derivative works of her book and that OpenAI\\'s actions constitute direct copyright infringement. She seeks damages and other remedies for the unauthorized use of her work.'"
      ]
     },
     "execution_count": 10,
     "metadata": {},
     "output_type": "execute_result"
    }
   ],
   "source": [
    "query = \"What does Sarah Silverman allege against OpenAI?\"\n",
    "qa.run(query)"
   ]
  },
  {
   "cell_type": "code",
   "execution_count": 11,
   "id": "57f38fac",
   "metadata": {},
   "outputs": [
    {
     "data": {
      "text/plain": [
       "\"The essence of Uncle Tom's Cabin is a story that portrays the harsh realities of slavery and the moral dilemmas faced by enslaved individuals. It highlights the noble and steadfast character of Uncle Tom, who remains faithful to his beliefs and exhibits Christian virtues even in the face of extreme suffering. The novel also explores themes of friendship, compassion, and the destructive nature of greed and brutality represented by characters like Simon Legree. Overall, Uncle Tom's Cabin aims to expose the injustices of slavery and advocate for its abolition.\""
      ]
     },
     "execution_count": 11,
     "metadata": {},
     "output_type": "execute_result"
    }
   ],
   "source": [
    "query = \"What is the essence of Uncle Tom's Cabin?\"\n",
    "qa.run(query)"
   ]
  },
  {
   "cell_type": "code",
   "execution_count": 12,
   "id": "e4a8cf60",
   "metadata": {},
   "outputs": [
    {
     "data": {
      "text/plain": [
       "'Yes, Richard Robbins and his colleagues concluded that semantic metrics are more robust indicators of success at question generation than lexical metrics. They found that metrics like METEOR, BERTScore, and USE, which measure semantic similarity, produced scores that were more reflective of successful question generation compared to metrics based on lexical similarity like BLEU and ROUGE-L. They also found that high scores in one metric but not the other often indicated incomplete semantic alignment. Therefore, they recommend using both semantic and lexical metrics together for a more comprehensive evaluation of text generation tasks.'"
      ]
     },
     "execution_count": 12,
     "metadata": {},
     "output_type": "execute_result"
    }
   ],
   "source": [
    "query = \"Did Richard Robbins and his colleagues reach a conclusion about whether semantic metrics are better than lexical metrics for text generation tasks?\"\n",
    "qa.run(query)"
   ]
  }
 ],
 "metadata": {
  "kernelspec": {
   "display_name": "Python 3 (ipykernel)",
   "language": "python",
   "name": "python3"
  },
  "language_info": {
   "codemirror_mode": {
    "name": "ipython",
    "version": 3
   },
   "file_extension": ".py",
   "mimetype": "text/x-python",
   "name": "python",
   "nbconvert_exporter": "python",
   "pygments_lexer": "ipython3",
   "version": "3.10.6"
  }
 },
 "nbformat": 4,
 "nbformat_minor": 5
}
