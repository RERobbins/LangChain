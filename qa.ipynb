{
 "cells": [
  {
   "cell_type": "markdown",
   "id": "a8b2295b",
   "metadata": {},
   "source": [
    "# Document Question Answering"
   ]
  },
  {
   "cell_type": "code",
   "execution_count": 1,
   "id": "0a2a9878",
   "metadata": {
    "tags": []
   },
   "outputs": [],
   "source": [
    "from langchain.vectorstores import Chroma\n",
    "from langchain.embeddings import OpenAIEmbeddings\n",
    "from langchain.chat_models import ChatOpenAI\n",
    "from langchain.chains import RetrievalQAWithSourcesChain"
   ]
  },
  {
   "cell_type": "code",
   "execution_count": 2,
   "id": "84a8b1c1",
   "metadata": {
    "tags": []
   },
   "outputs": [],
   "source": [
    "import os\n",
    "import textwrap\n",
    "from dotenv import load_dotenv, find_dotenv\n",
    "load_dotenv(find_dotenv())\n",
    "\n",
    "open.api_key = os.environ['OPENAI_API_KEY']"
   ]
  },
  {
   "cell_type": "markdown",
   "id": "18e22b62",
   "metadata": {},
   "source": [
    "## Initialize ChromaDB"
   ]
  },
  {
   "cell_type": "code",
   "execution_count": 3,
   "id": "06747cba",
   "metadata": {
    "tags": []
   },
   "outputs": [
    {
     "name": "stdout",
     "output_type": "stream",
     "text": [
      "199\n"
     ]
    }
   ],
   "source": [
    "embeddings = OpenAIEmbeddings()\n",
    "persist_directory = 'chroma/'\n",
    "vectordb = Chroma(persist_directory=persist_directory, embedding_function=embeddings)\n",
    "print(vectordb._collection.count())\n",
    "vectordb.persist()"
   ]
  },
  {
   "cell_type": "markdown",
   "id": "24d9185e",
   "metadata": {},
   "source": [
    "## Create the chain and a helper function\n",
    "\n",
    "Initialize the chain we will use for question answering."
   ]
  },
  {
   "cell_type": "code",
   "execution_count": 4,
   "id": "fe56231d",
   "metadata": {
    "tags": []
   },
   "outputs": [],
   "source": [
    "llm_model_name = \"gpt-3.5-turbo\"\n",
    "#llm_model_name = \"gpt-4\"\n",
    "llm = ChatOpenAI(model_name=llm_model_name, temperature=0)\n",
    "\n",
    "qa = RetrievalQAWithSourcesChain.from_chain_type(\n",
    "    llm,\n",
    "    retriever=vectordb.as_retriever(),\n",
    "    return_source_documents=True\n",
    ")\n",
    "\n",
    "def pretty_query (query, qa=qa):\n",
    "    result = qa(query)\n",
    "    print(f\"{textwrap.fill(result['answer'])}\\n\\nSource: {result['sources']}\")\n",
    "    "
   ]
  },
  {
   "cell_type": "markdown",
   "id": "c5725be2",
   "metadata": {},
   "source": [
    "## Ask questions!\n",
    "\n",
    "Now we can use the chain to ask questions!"
   ]
  },
  {
   "cell_type": "code",
   "execution_count": 5,
   "id": "c7236f32",
   "metadata": {
    "tags": []
   },
   "outputs": [
    {
     "name": "stdout",
     "output_type": "stream",
     "text": [
      "The president mentioned that he wants corporations and the wealthiest\n",
      "Americans to start paying their fair share of taxes. He proposed a 15%\n",
      "minimum tax rate for corporations and closing loopholes that allow the\n",
      "wealthy to pay a lower tax rate than others. He also mentioned that\n",
      "the previous administration's tax cuts for the wealthy and\n",
      "corporations led to bigger deficits and a wider wealth gap. The\n",
      "president's plan aims to grow the economy and lower costs for\n",
      "families.\n",
      "\n",
      "Source: data/state_of_the_union.txt\n"
     ]
    }
   ],
   "source": [
    "pretty_query (\"What did the president say about large corporations and the wealthy?\")"
   ]
  },
  {
   "cell_type": "code",
   "execution_count": 6,
   "id": "12e3110d",
   "metadata": {},
   "outputs": [
    {
     "name": "stdout",
     "output_type": "stream",
     "text": [
      "Sarah Silverman alleges that OpenAI engaged in direct copyright\n",
      "infringement by making unauthorized copies of her book, The Bedwetter,\n",
      "as well as the books of Christopher Golden and Richard Kadrey. OpenAI\n",
      "used these copies to train their OpenAI Language Models without the\n",
      "permission of the authors. This constitutes a violation of the\n",
      "authors' exclusive rights under copyright law.\n",
      "\n",
      "Source: data/silverman-openai-complaint.pdf\n"
     ]
    }
   ],
   "source": [
    "pretty_query (\"What does Sarah Silverman allege against OpenAI?\")"
   ]
  },
  {
   "cell_type": "markdown",
   "id": "80b411d3",
   "metadata": {},
   "source": [
    "###  This code seems to be unable to distinguish the Mar-a-Lago indictment from the later indictment."
   ]
  },
  {
   "cell_type": "code",
   "execution_count": 19,
   "id": "0e218fa0",
   "metadata": {},
   "outputs": [
    {
     "name": "stdout",
     "output_type": "stream",
     "text": [
      "The District of Columbia indictment against Donald Trump alleges new\n",
      "charges related to documents with classified markings discovered at\n",
      "Mar-a-Lago. The charges include altering, destroying, mutilating, or\n",
      "concealing an object; corruptly altering, destroying, mutilating or\n",
      "concealing a document, record or other object; and willful retention\n",
      "of national defense information. Trump was previously charged with 37\n",
      "felony counts, including willful retention of classified documents and\n",
      "conspiracy to obstruct justice. He has pleaded not guilty. The trial\n",
      "is set for May 2024 in Fort Pierce, Florida. Carlos De Oliveira, a\n",
      "Mar-a-Lago property manager and former valet, has also been charged in\n",
      "the case. Walt Nauta, a former aide to Trump, has pleaded not guilty\n",
      "to the charges.\n",
      "\n",
      "Source: data/doc-3.txt\n"
     ]
    }
   ],
   "source": [
    "pretty_query(\"What does the District of Columbia indictment against Donald Trump allege?  I am not intersted in the Florida indictment.\")"
   ]
  },
  {
   "cell_type": "code",
   "execution_count": 8,
   "id": "6750f6b3",
   "metadata": {},
   "outputs": [
    {
     "name": "stdout",
     "output_type": "stream",
     "text": [
      "Richard Robbins and his colleagues concluded that semantic metrics are\n",
      "more robust indicators of success at question generation than lexical\n",
      "metrics. They found that predictions with high semantic metric scores\n",
      "but low lexical metric scores still captured the essence of the target\n",
      "questions, while predictions with high lexical metric scores but low\n",
      "semantic metric scores did not adequately capture the essence. They\n",
      "specifically mentioned that METEOR was the best of the lexical\n",
      "similarity metrics they considered.\n",
      "\n",
      "Source: data/Question_Generation.pdf\n"
     ]
    }
   ],
   "source": [
    "pretty_query (\"Did Richard Robbins and his colleagues reach a conclusion about whether semantic metrics are better than lexical metrics for text generation tasks?\")"
   ]
  },
  {
   "cell_type": "code",
   "execution_count": 9,
   "id": "ca859e5e",
   "metadata": {},
   "outputs": [
    {
     "name": "stdout",
     "output_type": "stream",
     "text": [
      "Epiq employees can use AI tools at work, but they must exercise\n",
      "caution and best judgment when using any AI platform to protect Epiq's\n",
      "information and not use AI platforms for illegal, unethical, or\n",
      "harmful purposes. They must also follow the requirements of the\n",
      "Appropriate Use policy when using AI. Training on the safe and secure\n",
      "use of AI must be provided to all Epiq personnel, and the raw output\n",
      "and results received from AI platforms must be quality checked before\n",
      "being used. The use of public AI platforms is only permitted with\n",
      "approval from Senior Leadership, and certain information classified as\n",
      "Internal or Restricted is prohibited from being uploaded on a public\n",
      "AI platform.\n",
      "\n",
      "Source: data/AI Usage Policy_4APR2023.pdf\n"
     ]
    }
   ],
   "source": [
    "pretty_query (\"Can Epiq employees use AI tools at work?\")"
   ]
  },
  {
   "cell_type": "code",
   "execution_count": 10,
   "id": "971a8e63",
   "metadata": {},
   "outputs": [
    {
     "name": "stdout",
     "output_type": "stream",
     "text": [
      "Epiq employees should contact incidentreporting@epiqglobal.com if they\n",
      "want to use an AI tool at work.\n",
      "\n",
      "Source: data/AI Usage Policy_4APR2023.pdf\n"
     ]
    }
   ],
   "source": [
    "pretty_query (\"Who should Epiq employees contact if they want to use an AI tool at work?\")"
   ]
  },
  {
   "cell_type": "code",
   "execution_count": 11,
   "id": "d3804d37",
   "metadata": {},
   "outputs": [
    {
     "name": "stdout",
     "output_type": "stream",
     "text": [
      "The AI Usage Policy states that the use of public AI platforms, such\n",
      "as the public instance of ChatGPT, is only permitted with approval and\n",
      "authorization from Senior Leadership (VP or above) within a business\n",
      "area. A formal, documented acknowledgement of the policy is required\n",
      "before using public AI platforms. Additionally, Epiq personnel must\n",
      "undergo training on the safe and secure use of AI, including awareness\n",
      "of the risks and potential for misinformation and bias. The Compliance\n",
      "team must review all requests for access to public AI platforms. It is\n",
      "important to note that information classified as Internal or\n",
      "Restricted, as defined in the Data Classification policy, is\n",
      "prohibited from being uploaded on a public AI platform under any\n",
      "circumstances.\n",
      "\n",
      "Source: data/AI Usage Policy_4APR2023.pdf\n"
     ]
    }
   ],
   "source": [
    "pretty_query (\"I am an Epiq employee. Can I use Chat GPT at work?\")"
   ]
  },
  {
   "cell_type": "code",
   "execution_count": 12,
   "id": "2a86c3cc",
   "metadata": {},
   "outputs": [
    {
     "name": "stdout",
     "output_type": "stream",
     "text": [
      "Epiq does not allow access to ChatGPT because it is a public AI\n",
      "platform and its usage is restricted to approved and authorized\n",
      "personnel. Access to ChatGPT via the API is billed on the basis of\n",
      "usage. Additionally, Epiq has control over access to the software and\n",
      "requires authentication through unique user names and passwords. The\n",
      "relationship between Epiq and the user is that of licensee/licensor.\n",
      "\n",
      "Source: data/silverman-openai-complaint.pdf, data/AI Usage Policy_4APR2023.pdf, data/doc-6.txt\n"
     ]
    }
   ],
   "source": [
    "pretty_query (\"Everyone uses Chat GPT.  Why doesn't Epiq let me access it?\")"
   ]
  },
  {
   "cell_type": "code",
   "execution_count": 13,
   "id": "62132ca7",
   "metadata": {},
   "outputs": [
    {
     "name": "stdout",
     "output_type": "stream",
     "text": [
      "The key parts of Epiq's AI usage policy include exercising caution and\n",
      "best judgment when using AI platforms, not using AI platforms for\n",
      "illegal or unethical purposes, notifying\n",
      "incidentreporting@epiqglobal.com of any AI output containing\n",
      "restricted or internal Epiq information, and following the\n",
      "requirements of the Appropriate Use policy when using AI. The policy\n",
      "also addresses the risks associated with AI use, such as data leakage,\n",
      "privacy concerns, biased/inaccurate information, and over-reliance on\n",
      "AI output. The policy is owned by Epiq's Compliance team and is\n",
      "reviewed annually. Compliance with the policy is mandatory, and\n",
      "violations may result in termination of access to Epiq's IT network,\n",
      "systems, or data. Exceptions to the policy may be considered under\n",
      "special circumstances. The full policy and additional corporate\n",
      "policies can be found on One Epiq.\n",
      "\n",
      "Source: data/AI Usage Policy_4APR2023.pdf\n"
     ]
    }
   ],
   "source": [
    "pretty_query (\"Please summarize, the key parts of Epiq's AI usage policy.\")"
   ]
  },
  {
   "cell_type": "code",
   "execution_count": 14,
   "id": "def9f978",
   "metadata": {},
   "outputs": [
    {
     "name": "stdout",
     "output_type": "stream",
     "text": [
      "The rules at Epiq for the use of private AI tools include providing\n",
      "training on the safe and secure use of AI to all Epiq personnel,\n",
      "quality checking and fact-checking the raw output and results received\n",
      "from AI platforms, obtaining approval from Senior Leadership for the\n",
      "use of public AI platforms, and not uploading any information\n",
      "classified as Internal or Restricted on a public AI platform. Epiq\n",
      "personnel must also exercise caution and best judgment when using any\n",
      "AI platform, not engage in illegal or unethical activities while\n",
      "utilizing Epiq owned resources, and follow the requirements of the\n",
      "Appropriate Use policy when using AI. The risks associated with AI use\n",
      "include data leakage, privacy breaches, biased or inaccurate\n",
      "information, and over-reliance on AI output.\n",
      "\n",
      "Source: data/AI Usage Policy_4APR2023.pdf\n"
     ]
    }
   ],
   "source": [
    "pretty_query (\"What are the rules at Epiq for the use of private AI tools?\")"
   ]
  },
  {
   "cell_type": "code",
   "execution_count": 15,
   "id": "fc0144fa",
   "metadata": {},
   "outputs": [
    {
     "name": "stdout",
     "output_type": "stream",
     "text": [
      "Epiq is concerned about the following risks regarding Generative AI:\n",
      "1. Data leakage: The deliberate, accidental, or malicious sharing of\n",
      "restricted or internal Epiq information on AI platforms, which could\n",
      "be accessed by others. 2. Privacy: The risk of uploading data\n",
      "containing personal information of third parties, clients, or\n",
      "employees, which would be a breach of contractual or regulatory\n",
      "requirements. 3. Biased/inaccurate information: If the initial data\n",
      "source used to train the AI is incorrect or biased, there is a risk\n",
      "that the results from the AI platform will also contain inaccuracies\n",
      "and bias. 4. Over-reliance on AI output: As the use of AI increases,\n",
      "individuals could become overly reliant on AI for task completion,\n",
      "analysis, and content creation. 5. Use of Confidential or Proprietary\n",
      "Information: AI search query results may contain unauthorized\n",
      "information, such as confidential, sensitive, or proprietary\n",
      "information belonging to a third party, which could result in legal\n",
      "action or penalties/fines for Epiq. 6. Explainability: If an AI\n",
      "platform is not transparent or \"explainable\" in its decision-making\n",
      "process, there could be a lack of trust in the output, leading to\n",
      "biased or inaccurate responses and potential legal and ethical risks.\n",
      "\n",
      "Source: data/AI Usage Policy_4APR2023.pdf\n"
     ]
    }
   ],
   "source": [
    "pretty_query (\"What risks is Epiq concerned about regarding Generative AI?\")"
   ]
  },
  {
   "cell_type": "code",
   "execution_count": 16,
   "id": "b6aac618",
   "metadata": {},
   "outputs": [
    {
     "name": "stdout",
     "output_type": "stream",
     "text": [
      "If you think that Epiq proprietary information has leaked into a\n",
      "public AI, you should notify incidentreporting@epiqglobal.com. It is\n",
      "important to exercise caution and best judgment when using any AI\n",
      "platform to protect Epiq's information and not use AI platforms for\n",
      "purposes that are illegal, unethical, or harmful to Epiq. The use of\n",
      "public AI platforms is only permitted with approval and authorization\n",
      "from Senior Leadership within a business area, and information\n",
      "classified as Internal or Restricted is prohibited from being uploaded\n",
      "on a public AI platform under any circumstances. There are risks\n",
      "associated with AI use, including data leakage, privacy breaches,\n",
      "biased/inaccurate information, and over-reliance on AI output.\n",
      "Training on the safe and secure use of AI must be provided to all Epiq\n",
      "personnel, and the raw output and results received from AI platforms\n",
      "must be quality checked before being used. The use of single tenant\n",
      "(private) AI environments is permitted for authorized teams only and\n",
      "must be fully managed by Epiq with appropriate access controls in\n",
      "place.\n",
      "\n",
      "Source: data/AI Usage Policy_4APR2023.pdf\n"
     ]
    }
   ],
   "source": [
    "pretty_query (\"What should I do if I think that Epiq proprietary information has leaked into a public AI?\")"
   ]
  },
  {
   "cell_type": "code",
   "execution_count": 17,
   "id": "9f6c65b5",
   "metadata": {},
   "outputs": [
    {
     "name": "stdout",
     "output_type": "stream",
     "text": [
      "Epiq's AI policy requires personnel to exercise caution and best\n",
      "judgment when using AI platforms to protect Epiq's information and not\n",
      "engage in any illegal or unethical activities. They must also notify\n",
      "incidentreporting@epiqglobal.com if they become aware of any AI output\n",
      "containing restricted or internal Epiq information. The policy is\n",
      "owned by Epiq's Compliance team and is reviewed annually. Violations\n",
      "of the policy may result in termination of access to Epiq's IT\n",
      "network, systems, or data. The policy applies to Epiq personnel,\n",
      "third-party consultants, contractors, vendors, and any individual or\n",
      "entity with access to the company's information resources. The policy\n",
      "does not cover ethical and moral risks associated with AI use.\n",
      "\n",
      "Source: data/AI Usage Policy_4APR2023.pdf\n"
     ]
    }
   ],
   "source": [
    "pretty_query (\"I need to summarize Epiq's AI policy for my team of software developers.  Please provide a summary.\")"
   ]
  },
  {
   "cell_type": "code",
   "execution_count": 18,
   "id": "0c2e9f0f",
   "metadata": {},
   "outputs": [
    {
     "name": "stdout",
     "output_type": "stream",
     "text": [
      "The risks associated with AI use include inaccurate or incomplete\n",
      "content, the potential for data leakage, privacy breaches, biased or\n",
      "inaccurate information, and over-reliance on AI output. It is\n",
      "important to provide training on the safe and secure use of AI and to\n",
      "quality check the output before using it in reports or deliverables.\n",
      "The use of public AI platforms is only permitted with approval from\n",
      "senior leadership and certain restrictions apply, such as not\n",
      "uploading internal or restricted information. These risks and\n",
      "guidelines are outlined in the AI Usage Policy of Epiq.\n",
      "\n",
      "Source: data/AI Usage Policy_4APR2023.pdf\n"
     ]
    }
   ],
   "source": [
    "pretty_query (\"What are the risks associated with AI use?\")"
   ]
  }
 ],
 "metadata": {
  "kernelspec": {
   "display_name": "Python 3 (ipykernel)",
   "language": "python",
   "name": "python3"
  },
  "language_info": {
   "codemirror_mode": {
    "name": "ipython",
    "version": 3
   },
   "file_extension": ".py",
   "mimetype": "text/x-python",
   "name": "python",
   "nbconvert_exporter": "python",
   "pygments_lexer": "ipython3",
   "version": "3.10.6"
  }
 },
 "nbformat": 4,
 "nbformat_minor": 5
}
