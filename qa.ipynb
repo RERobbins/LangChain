{
 "cells": [
  {
   "cell_type": "markdown",
   "id": "71ffb558",
   "metadata": {},
   "source": [
    "# Document Question Answering"
   ]
  },
  {
   "cell_type": "code",
   "execution_count": 1,
   "id": "f8553b64",
   "metadata": {
    "tags": []
   },
   "outputs": [],
   "source": [
    "from langchain.vectorstores import Chroma\n",
    "from langchain.embeddings import OpenAIEmbeddings\n",
    "from langchain.chat_models import ChatOpenAI\n",
    "from langchain.chains import RetrievalQAWithSourcesChain"
   ]
  },
  {
   "cell_type": "code",
   "execution_count": 2,
   "id": "4051a99e",
   "metadata": {
    "tags": []
   },
   "outputs": [],
   "source": [
    "import os\n",
    "import textwrap\n",
    "from dotenv import load_dotenv, find_dotenv\n",
    "load_dotenv(find_dotenv())\n",
    "\n",
    "open.api_key = os.environ['OPENAI_API_KEY']"
   ]
  },
  {
   "cell_type": "markdown",
   "id": "f0e75504",
   "metadata": {},
   "source": [
    "## Initialize ChromaDB"
   ]
  },
  {
   "cell_type": "code",
   "execution_count": 3,
   "id": "c3bc66f8",
   "metadata": {
    "tags": []
   },
   "outputs": [
    {
     "name": "stdout",
     "output_type": "stream",
     "text": [
      "199\n"
     ]
    }
   ],
   "source": [
    "embeddings = OpenAIEmbeddings()\n",
    "persist_directory = 'chroma/'\n",
    "vectordb = Chroma(persist_directory=persist_directory, embedding_function=embeddings)\n",
    "print(vectordb._collection.count())\n",
    "vectordb.persist()"
   ]
  },
  {
   "cell_type": "markdown",
   "id": "9e70f9cc",
   "metadata": {},
   "source": [
    "## Create the chain and a helper function\n",
    "\n",
    "Initialize the chain we will use for question answering."
   ]
  },
  {
   "cell_type": "code",
   "execution_count": 4,
   "id": "39f465bc",
   "metadata": {
    "tags": []
   },
   "outputs": [],
   "source": [
    "#llm_model_name = \"gpt-3.5-turbo\"\n",
    "llm_model_name = \"gpt-4\"\n",
    "llm = ChatOpenAI(model_name=llm_model_name, temperature=0)\n",
    "\n",
    "qa = RetrievalQAWithSourcesChain.from_chain_type(\n",
    "    llm,\n",
    "    retriever=vectordb.as_retriever(),\n",
    "    return_source_documents=True\n",
    ")\n",
    "\n",
    "def pretty_query (query, qa=qa):\n",
    "    result = qa(query)\n",
    "    print(f\"{textwrap.fill(result['answer'])}\\n\\nSource: {result['sources']}\")\n",
    "    "
   ]
  },
  {
   "cell_type": "markdown",
   "id": "62fa5d42",
   "metadata": {},
   "source": [
    "## Ask questions!\n",
    "\n",
    "Now we can use the chain to ask questions!"
   ]
  },
  {
   "cell_type": "code",
   "execution_count": 5,
   "id": "a25c7af6",
   "metadata": {
    "tags": []
   },
   "outputs": [
    {
     "name": "stdout",
     "output_type": "stream",
     "text": [
      "The president stated that the tax system is not fair and needs to be\n",
      "fixed. He proposed a 15% minimum tax rate for corporations and closing\n",
      "loopholes so the very wealthy don't pay a lower tax rate than a\n",
      "teacher or a firefighter. He also mentioned that 55 Fortune 500\n",
      "corporations earned $40 billion in profits and paid zero dollars in\n",
      "federal income tax, which he deemed as not fair. The president also\n",
      "announced a crackdown on foreign-owned companies that raised prices by\n",
      "as much as 1,000% during the pandemic and made record profits. He also\n",
      "mentioned that as Wall Street firms take over more nursing homes,\n",
      "quality in those homes has gone down and costs have gone up, which he\n",
      "plans to end. He also stated that capitalism without competition isn't\n",
      "capitalism, but exploitation, which drives up prices.\n",
      "\n",
      "Source: data/state_of_the_union.txt\n"
     ]
    }
   ],
   "source": [
    "pretty_query (\"What did the president say about large corporations and the wealthy?\")"
   ]
  },
  {
   "cell_type": "code",
   "execution_count": 6,
   "id": "b7dd5ba2",
   "metadata": {},
   "outputs": [
    {
     "name": "stdout",
     "output_type": "stream",
     "text": [
      "Sarah Silverman, along with other plaintiffs, alleges that OpenAI has\n",
      "committed direct copyright infringement, vicarious copyright\n",
      "infringement, violations of section 1202(b) of the Digital Millennium\n",
      "Copyright Act, unjust enrichment, violations of the California and\n",
      "common law unfair competition laws, and negligence. She claims that\n",
      "OpenAI made unauthorized copies of her book, \"The Bedwetter\", and\n",
      "other works during the training process of the OpenAI Language Models.\n",
      "She asserts that these models are infringing derivative works, made\n",
      "without the plaintiffs' permission and in violation of their exclusive\n",
      "rights under the Copyright Act.\n",
      "\n",
      "Source: data/silverman-openai-complaint.pdf\n"
     ]
    }
   ],
   "source": [
    "pretty_query (\"What does Sarah Silverman allege against OpenAI?\")"
   ]
  },
  {
   "cell_type": "markdown",
   "id": "5f15b080",
   "metadata": {},
   "source": [
    "###  This code seems to be unable to distinguish the Mar-a-Lago indictment from the later indictment."
   ]
  },
  {
   "cell_type": "code",
   "execution_count": 7,
   "id": "4e73109b",
   "metadata": {},
   "outputs": [
    {
     "name": "stdout",
     "output_type": "stream",
     "text": [
      "The District of Columbia indictment against Donald Trump alleges that\n",
      "he is waiting for the possibility of a separate indictment stemming\n",
      "from an investigation into attempts to alter the 2020 presidential\n",
      "election and interfere with the peaceful transfer of power.\n",
      "\n",
      "Source: data/doc-3.txt\n"
     ]
    }
   ],
   "source": [
    "pretty_query(\"What does the District of Columbia indictment against Donald Trump allege?  I am not intersted in the Florida indictment.\")"
   ]
  },
  {
   "cell_type": "code",
   "execution_count": 8,
   "id": "bfe82497",
   "metadata": {},
   "outputs": [
    {
     "name": "stdout",
     "output_type": "stream",
     "text": [
      "Yes, Richard Robbins and his colleagues concluded that semantic\n",
      "metrics are more robust indicators of success at question generation\n",
      "than lexical metrics.\n",
      "\n",
      "Source: data/Question_Generation.pdf\n"
     ]
    }
   ],
   "source": [
    "pretty_query (\"Did Richard Robbins and his colleagues reach a conclusion about whether semantic metrics are better than lexical metrics for text generation tasks?\")"
   ]
  },
  {
   "cell_type": "code",
   "execution_count": 9,
   "id": "497c701a",
   "metadata": {},
   "outputs": [
    {
     "name": "stdout",
     "output_type": "stream",
     "text": [
      "Yes, Epiq employees can use AI tools at work. However, they must\n",
      "exercise caution and best judgement when using any AI platform to\n",
      "protect Epiq’s information, clients’ information, intellectual\n",
      "property or other sensitive data. They are not allowed to use AI\n",
      "platforms for purposes that are illegal, unethical, or harmful to\n",
      "Epiq. They must also follow the requirements of the Appropriate Use\n",
      "policy when using AI. Training on the safe and secure use of AI must\n",
      "be provided to all Epiq personnel. The raw output and results received\n",
      "from AI platforms must be quality checked before being used in\n",
      "reports, work content or other deliverables. Use of public AI\n",
      "platforms is only permitted where approved and authorised by Senior\n",
      "Leadership within a business area.\n",
      "\n",
      "Source: data/AI Usage Policy_4APR2023.pdf\n"
     ]
    }
   ],
   "source": [
    "pretty_query (\"Can Epiq employees use AI tools at work?\")"
   ]
  },
  {
   "cell_type": "code",
   "execution_count": 10,
   "id": "de8ce499",
   "metadata": {},
   "outputs": [
    {
     "name": "stdout",
     "output_type": "stream",
     "text": [
      "Epiq employees should contact the Compliance team if they want to use\n",
      "an AI tool at work. All requests for access to public AI platforms\n",
      "must go to the Compliance team.\n",
      "\n",
      "Source: data/AI Usage Policy_4APR2023.pdf\n"
     ]
    }
   ],
   "source": [
    "pretty_query (\"Who should Epiq employees contact if they want to use an AI tool at work?\")"
   ]
  },
  {
   "cell_type": "code",
   "execution_count": 11,
   "id": "b81a8b69",
   "metadata": {},
   "outputs": [
    {
     "name": "stdout",
     "output_type": "stream",
     "text": [
      "Yes, Epiq employees can use Chat GPT at work, but there are certain\n",
      "conditions that must be met. The use of public AI platforms, such as\n",
      "ChatGPT, is only permitted where approved and authorised by Senior\n",
      "Leadership (VP or above) within a business area. A formal, documented\n",
      "acknowledgement of the AI Usage Policy is required before public AI\n",
      "platforms can be used. All requests for access to public AI platforms\n",
      "must go to the Compliance team. The request must specify the Epiq\n",
      "personnel who will be using the public AI platform and the specific\n",
      "business requirement for doing so. Compliance and Security will review\n",
      "all requests for access. Information classified as Internal or\n",
      "Restricted, as set out in the Data Classification policy, is\n",
      "prohibited from being uploaded on a public AI platform under any\n",
      "circumstances.\n",
      "\n",
      "Source: data/AI Usage Policy_4APR2023.pdf\n"
     ]
    }
   ],
   "source": [
    "pretty_query (\"I am an Epiq employee. Can I use Chat GPT at work?\")"
   ]
  },
  {
   "cell_type": "code",
   "execution_count": 12,
   "id": "9efc40c7",
   "metadata": {},
   "outputs": [
    {
     "name": "stdout",
     "output_type": "stream",
     "text": [
      "Epiq does not allow access to public AI platforms such as ChatGPT\n",
      "unless it is approved and authorised by Senior Leadership (VP or\n",
      "above) within a business area. A formal, documented acknowledgement of\n",
      "the AI Usage Policy is required before public AI platforms can be\n",
      "used. All requests for access to public AI platforms must go to the\n",
      "Compliance team. The request must specify the Epiq personnel who will\n",
      "be using the public AI platform and the specific business requirement\n",
      "for doing so. Compliance and Security will review all requests for\n",
      "access.\n",
      "\n",
      "Source: data/AI Usage Policy_4APR2023.pdf\n"
     ]
    }
   ],
   "source": [
    "pretty_query (\"Everyone uses Chat GPT.  Why doesn't Epiq let me access it?\")"
   ]
  },
  {
   "cell_type": "code",
   "execution_count": 13,
   "id": "c3f844f1",
   "metadata": {},
   "outputs": [
    {
     "name": "stdout",
     "output_type": "stream",
     "text": [
      "Epiq's AI usage policy outlines the requirements for the safe and\n",
      "secure use of AI by Epiq personnel. The policy aims to align the use\n",
      "of AI with Epiq’s existing Security, Compliance, Legal and other\n",
      "corporate policies, and make employees aware of the potential risks\n",
      "associated with using AI. Epiq personnel must exercise caution and\n",
      "best judgement when using any AI platform to protect Epiq’s\n",
      "information, clients’ information, intellectual property or other\n",
      "sensitive data. They must not use AI platforms for purposes that are\n",
      "illegal, unethical, or harmful to Epiq. Any suspected or known\n",
      "violations of this policy may result in termination of access to\n",
      "Epiq’s IT network, systems or data, and prosecution under applicable\n",
      "statutes. The policy also highlights the risks associated with AI use,\n",
      "including data leakage, privacy breaches, biased/inaccurate\n",
      "information, and over-reliance on AI output.\n",
      "\n",
      "Source: data/AI Usage Policy_4APR2023.pdf\n"
     ]
    }
   ],
   "source": [
    "pretty_query (\"Please summarize, the key parts of Epiq's AI usage policy.\")"
   ]
  },
  {
   "cell_type": "code",
   "execution_count": 14,
   "id": "4634af6f",
   "metadata": {},
   "outputs": [
    {
     "name": "stdout",
     "output_type": "stream",
     "text": [
      "At Epiq, the use of private AI tools must follow the requirements of\n",
      "the Appropriate Use policy. All Epiq personnel must be provided with\n",
      "training on the safe and secure use of AI, covering awareness of the\n",
      "security, legal and other business related risks of using AI. The raw\n",
      "output and results received from AI platforms must be quality checked\n",
      "before being used in reports, work content or other deliverables. Use\n",
      "of public AI platforms, such as the public instance of ChatGPT, is\n",
      "only permitted where approved and authorised by Senior Leadership\n",
      "within a business area. A formal, documented acknowledgement of this\n",
      "Policy is required before public AI platforms can be used. All\n",
      "requests for access to public AI platforms must go to the Compliance\n",
      "team. Information classified as Internal or Restricted is prohibited\n",
      "from being uploaded on a public AI platform under any circumstances.\n",
      "\n",
      "Source: data/AI Usage Policy_4APR2023.pdf\n"
     ]
    }
   ],
   "source": [
    "pretty_query (\"What are the rules at Epiq for the use of private AI tools?\")"
   ]
  },
  {
   "cell_type": "code",
   "execution_count": 15,
   "id": "d27cb1fe",
   "metadata": {},
   "outputs": [
    {
     "name": "stdout",
     "output_type": "stream",
     "text": [
      "Epiq is concerned about several risks regarding Generative AI. These\n",
      "include data leakage, which could lead to the sharing of restricted or\n",
      "internal information, commercially sensitive information about Epiq,\n",
      "intellectual property, confidential client information, and system\n",
      "information that could be exploited for cyber-attacks. There is also a\n",
      "risk of privacy breaches, biased or inaccurate information, over-\n",
      "reliance on AI output, use of confidential or proprietary information,\n",
      "and explainability issues. If an AI platform is not transparent in its\n",
      "decision-making process, it may be unclear how a specific outcome was\n",
      "reached, leading to a lack of trust in the output and potential legal\n",
      "and ethical risks.\n",
      "\n",
      "Source: data/AI Usage Policy_4APR2023.pdf\n"
     ]
    }
   ],
   "source": [
    "pretty_query (\"What risks is Epiq concerned about regarding Generative AI?\")"
   ]
  },
  {
   "cell_type": "code",
   "execution_count": 16,
   "id": "2344280d",
   "metadata": {},
   "outputs": [
    {
     "name": "stdout",
     "output_type": "stream",
     "text": [
      "If you suspect that Epiq proprietary information has leaked into a\n",
      "public AI, you should notify incidentreporting@epiqglobal.com. This\n",
      "includes any output from an AI platform that contains Restricted or\n",
      "Internal Epiq information.\n",
      "\n",
      "Source: data/AI Usage Policy_4APR2023.pdf\n"
     ]
    }
   ],
   "source": [
    "pretty_query (\"What should I do if I think that Epiq proprietary information has leaked into a public AI?\")"
   ]
  },
  {
   "cell_type": "code",
   "execution_count": 17,
   "id": "a161f20c",
   "metadata": {},
   "outputs": [
    {
     "name": "stdout",
     "output_type": "stream",
     "text": [
      "Epiq's AI usage policy, version 1.0, dated 30th March 2023, outlines\n",
      "the requirements for the safe and secure use of AI by Epiq personnel.\n",
      "The policy aims to align the use of AI with Epiq’s existing Security,\n",
      "Compliance, Legal, and other corporate policies, and to make employees\n",
      "aware of the potential risks associated with using AI.   Epiq\n",
      "personnel must exercise caution and best judgement when using any AI\n",
      "platform to protect Epiq’s information, clients’ information,\n",
      "intellectual property, or other sensitive data. AI platforms should\n",
      "not be used for purposes that are illegal, unethical, or harmful to\n",
      "Epiq. Any output from an AI platform that contains Restricted or\n",
      "Internal Epiq information should be reported to\n",
      "incidentreporting@epiqglobal.com.   The policy is owned by Epiq’s\n",
      "Compliance team and is reviewed at least annually, with input from\n",
      "CyberSecurity and other teams. Compliance with the policy is\n",
      "mandatory, but exceptions can be considered under special\n",
      "circumstances. Violations of the policy may result in termination of\n",
      "access to Epiq’s IT network, systems, or data, and accountability\n",
      "under any applicable Epiq corporate policies, procedures, or\n",
      "contractual obligations.\n",
      "\n",
      "Source: data/AI Usage Policy_4APR2023.pdf\n"
     ]
    }
   ],
   "source": [
    "pretty_query (\"I need to summarize Epiq's AI policy for my team of software developers.  Please provide a summary.\")"
   ]
  },
  {
   "cell_type": "code",
   "execution_count": 18,
   "id": "c4298167",
   "metadata": {},
   "outputs": [
    {
     "name": "stdout",
     "output_type": "stream",
     "text": [
      "The risks associated with AI use include data leakage, which could\n",
      "lead to the sharing of restricted or internal information,\n",
      "commercially sensitive information about the company, intellectual\n",
      "property, confidential client information, and system information that\n",
      "could be exploited for cyber-attacks. There is also a risk of privacy\n",
      "breaches, such as uploading data containing personal information of\n",
      "third parties, clients or employees. AI platforms may produce biased\n",
      "or inaccurate information if the initial data source is incorrect or\n",
      "biased. Over-reliance on AI for task completion, analysis, and content\n",
      "creation is another risk. AI search query results may contain\n",
      "unauthorized information, such as confidential, sensitive or\n",
      "proprietary information belonging to a third party. If an AI platform\n",
      "is not transparent in its decision-making process, it may be unclear\n",
      "how a specific outcome was reached, leading to a lack of trust in the\n",
      "output and potential legal and ethical risks.\n",
      "\n",
      "Source: data/AI Usage Policy_4APR2023.pdf\n"
     ]
    }
   ],
   "source": [
    "pretty_query (\"What are the risks associated with AI use?\")"
   ]
  }
 ],
 "metadata": {
  "kernelspec": {
   "display_name": "Python 3 (ipykernel)",
   "language": "python",
   "name": "python3"
  },
  "language_info": {
   "codemirror_mode": {
    "name": "ipython",
    "version": 3
   },
   "file_extension": ".py",
   "mimetype": "text/x-python",
   "name": "python",
   "nbconvert_exporter": "python",
   "pygments_lexer": "ipython3",
   "version": "3.10.12"
  }
 },
 "nbformat": 4,
 "nbformat_minor": 5
}
